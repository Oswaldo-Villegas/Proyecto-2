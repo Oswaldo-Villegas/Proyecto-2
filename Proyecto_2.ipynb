{
  "nbformat": 4,
  "nbformat_minor": 0,
  "metadata": {
    "colab": {
      "name": "Proyecto 2.ipynb",
      "provenance": [],
      "collapsed_sections": [],
      "toc_visible": true,
      "authorship_tag": "ABX9TyNmq3pUTBdOph2noH1hnzYi",
      "include_colab_link": true
    },
    "kernelspec": {
      "name": "python3",
      "display_name": "Python 3"
    },
    "language_info": {
      "name": "python"
    }
  },
  "cells": [
    {
      "cell_type": "markdown",
      "metadata": {
        "id": "view-in-github",
        "colab_type": "text"
      },
      "source": [
        "<a href=\"https://colab.research.google.com/github/Oswaldo-Villegas/Proyecto-2/blob/main/Proyecto_2.ipynb\" target=\"_parent\"><img src=\"https://colab.research.google.com/assets/colab-badge.svg\" alt=\"Open In Colab\"/></a>"
      ]
    },
    {
      "cell_type": "markdown",
      "source": [
        "\n",
        "----------------------------\n",
        "----------------------------\n",
        "\n",
        "PROYECTO N° 02. \n",
        "\n",
        "Alumno: Oswaldo David Villegas Santiago.\n",
        "\n",
        "E-mail: villegas.sod@gmail.com"
      ],
      "metadata": {
        "id": "FysXfGFbEAf5"
      }
    },
    {
      "cell_type": "markdown",
      "source": [
        "# **Ejercicio N°1:**\n",
        "Escribir una función que devuelva un Hexágono."
      ],
      "metadata": {
        "id": "Jdhz5w52ENBf"
      }
    },
    {
      "cell_type": "code",
      "source": [
        "def imprimir_Hexagono():         # Definimos la función imprimir_Hexagono sin argumentos.\n",
        "\tfor i in range(0,6,1):         # Inicialimos el bucle for para una secuencia de valores de 0 a 5.\n",
        "\t\tif (i == 1) or (i == 5):     # Definimos una serie de condicionales:\n",
        "\t\t\tprint('  +++++  ')         # 1) Si i es igual a 1 o i es igual a 5 se imprime la primera y ultima linea de +´s del exagono.\n",
        "\t\telif (i == 2 ) or (i == 4):  # 2) En caso de no cumplir la condicional anterior, se define un segundo caso: si i es igual a 2, \n",
        "\t\t\tprint(' +++++++ ')         # o i igual a 4, se imprimira la segunda y penultima linea de +.\n",
        "\t\telif i == 3:                 # Finalmente si i es igual a 3, se imprimira la linea intermedia del exagono.\n",
        "\t\t\tprint('+++++++++')\n",
        "\t\t\ti += 1\n",
        "\n",
        "imprimir_Hexagono()"
      ],
      "metadata": {
        "colab": {
          "base_uri": "https://localhost:8080/"
        },
        "id": "LLzsKFHFrt92",
        "outputId": "4c9cdf2a-27b7-488b-9d52-4a978d838567"
      },
      "execution_count": null,
      "outputs": [
        {
          "output_type": "stream",
          "name": "stdout",
          "text": [
            "  +++++  \n",
            " +++++++ \n",
            "+++++++++\n",
            " +++++++ \n",
            "  +++++  \n"
          ]
        }
      ]
    },
    {
      "cell_type": "markdown",
      "source": [
        "# **Ejercicio N°2:**\n",
        "Generar un Notebook Colab con código y resultados, con el \n",
        "siguiente fichero autos.csv que contiene información de autos de \n",
        "un periodo de tiempo. Resolver los siguientes:"
      ],
      "metadata": {
        "id": "PfJ5lpC2EjG6"
      }
    },
    {
      "cell_type": "code",
      "execution_count": null,
      "metadata": {
        "colab": {
          "base_uri": "https://localhost:8080/",
          "height": 206
        },
        "id": "NA4TlavT7ZMg",
        "outputId": "b1a09fee-9cfe-4896-f410-af06d22240aa"
      },
      "outputs": [
        {
          "output_type": "execute_result",
          "data": {
            "text/html": [
              "\n",
              "  <div id=\"df-d5630864-3ca5-4898-972f-c8a7ecfe1aae\">\n",
              "    <div class=\"colab-df-container\">\n",
              "      <div>\n",
              "<style scoped>\n",
              "    .dataframe tbody tr th:only-of-type {\n",
              "        vertical-align: middle;\n",
              "    }\n",
              "\n",
              "    .dataframe tbody tr th {\n",
              "        vertical-align: top;\n",
              "    }\n",
              "\n",
              "    .dataframe thead th {\n",
              "        text-align: right;\n",
              "    }\n",
              "</style>\n",
              "<table border=\"1\" class=\"dataframe\">\n",
              "  <thead>\n",
              "    <tr style=\"text-align: right;\">\n",
              "      <th></th>\n",
              "      <th>Millas_Por_Galon</th>\n",
              "      <th>Cilindros</th>\n",
              "      <th>Pais_Origen</th>\n",
              "      <th>Peso_En_Libras</th>\n",
              "      <th>Desplazamiento</th>\n",
              "      <th>Aceleracion</th>\n",
              "      <th>Nombre</th>\n",
              "      <th>Anyo</th>\n",
              "      <th>Caballo_De_Fuerza</th>\n",
              "    </tr>\n",
              "  </thead>\n",
              "  <tbody>\n",
              "    <tr>\n",
              "      <th>0</th>\n",
              "      <td>18.0</td>\n",
              "      <td>8</td>\n",
              "      <td>USA</td>\n",
              "      <td>3504</td>\n",
              "      <td>307.0</td>\n",
              "      <td>12.0</td>\n",
              "      <td>chevrolet chevelle malibu</td>\n",
              "      <td>1/01/1970</td>\n",
              "      <td>130.0</td>\n",
              "    </tr>\n",
              "    <tr>\n",
              "      <th>1</th>\n",
              "      <td>15.0</td>\n",
              "      <td>8</td>\n",
              "      <td>USA</td>\n",
              "      <td>3693</td>\n",
              "      <td>350.0</td>\n",
              "      <td>11.5</td>\n",
              "      <td>buick skylark 320</td>\n",
              "      <td>1/01/1970</td>\n",
              "      <td>165.0</td>\n",
              "    </tr>\n",
              "    <tr>\n",
              "      <th>2</th>\n",
              "      <td>18.0</td>\n",
              "      <td>8</td>\n",
              "      <td>USA</td>\n",
              "      <td>3436</td>\n",
              "      <td>318.0</td>\n",
              "      <td>11.0</td>\n",
              "      <td>plymouth satellite</td>\n",
              "      <td>1/01/1970</td>\n",
              "      <td>150.0</td>\n",
              "    </tr>\n",
              "    <tr>\n",
              "      <th>3</th>\n",
              "      <td>16.0</td>\n",
              "      <td>8</td>\n",
              "      <td>USA</td>\n",
              "      <td>3433</td>\n",
              "      <td>304.0</td>\n",
              "      <td>12.0</td>\n",
              "      <td>amc rebel sst</td>\n",
              "      <td>1/01/1970</td>\n",
              "      <td>150.0</td>\n",
              "    </tr>\n",
              "    <tr>\n",
              "      <th>4</th>\n",
              "      <td>17.0</td>\n",
              "      <td>8</td>\n",
              "      <td>USA</td>\n",
              "      <td>3449</td>\n",
              "      <td>302.0</td>\n",
              "      <td>10.5</td>\n",
              "      <td>ford torino</td>\n",
              "      <td>1/01/1970</td>\n",
              "      <td>140.0</td>\n",
              "    </tr>\n",
              "  </tbody>\n",
              "</table>\n",
              "</div>\n",
              "      <button class=\"colab-df-convert\" onclick=\"convertToInteractive('df-d5630864-3ca5-4898-972f-c8a7ecfe1aae')\"\n",
              "              title=\"Convert this dataframe to an interactive table.\"\n",
              "              style=\"display:none;\">\n",
              "        \n",
              "  <svg xmlns=\"http://www.w3.org/2000/svg\" height=\"24px\"viewBox=\"0 0 24 24\"\n",
              "       width=\"24px\">\n",
              "    <path d=\"M0 0h24v24H0V0z\" fill=\"none\"/>\n",
              "    <path d=\"M18.56 5.44l.94 2.06.94-2.06 2.06-.94-2.06-.94-.94-2.06-.94 2.06-2.06.94zm-11 1L8.5 8.5l.94-2.06 2.06-.94-2.06-.94L8.5 2.5l-.94 2.06-2.06.94zm10 10l.94 2.06.94-2.06 2.06-.94-2.06-.94-.94-2.06-.94 2.06-2.06.94z\"/><path d=\"M17.41 7.96l-1.37-1.37c-.4-.4-.92-.59-1.43-.59-.52 0-1.04.2-1.43.59L10.3 9.45l-7.72 7.72c-.78.78-.78 2.05 0 2.83L4 21.41c.39.39.9.59 1.41.59.51 0 1.02-.2 1.41-.59l7.78-7.78 2.81-2.81c.8-.78.8-2.07 0-2.86zM5.41 20L4 18.59l7.72-7.72 1.47 1.35L5.41 20z\"/>\n",
              "  </svg>\n",
              "      </button>\n",
              "      \n",
              "  <style>\n",
              "    .colab-df-container {\n",
              "      display:flex;\n",
              "      flex-wrap:wrap;\n",
              "      gap: 12px;\n",
              "    }\n",
              "\n",
              "    .colab-df-convert {\n",
              "      background-color: #E8F0FE;\n",
              "      border: none;\n",
              "      border-radius: 50%;\n",
              "      cursor: pointer;\n",
              "      display: none;\n",
              "      fill: #1967D2;\n",
              "      height: 32px;\n",
              "      padding: 0 0 0 0;\n",
              "      width: 32px;\n",
              "    }\n",
              "\n",
              "    .colab-df-convert:hover {\n",
              "      background-color: #E2EBFA;\n",
              "      box-shadow: 0px 1px 2px rgba(60, 64, 67, 0.3), 0px 1px 3px 1px rgba(60, 64, 67, 0.15);\n",
              "      fill: #174EA6;\n",
              "    }\n",
              "\n",
              "    [theme=dark] .colab-df-convert {\n",
              "      background-color: #3B4455;\n",
              "      fill: #D2E3FC;\n",
              "    }\n",
              "\n",
              "    [theme=dark] .colab-df-convert:hover {\n",
              "      background-color: #434B5C;\n",
              "      box-shadow: 0px 1px 3px 1px rgba(0, 0, 0, 0.15);\n",
              "      filter: drop-shadow(0px 1px 2px rgba(0, 0, 0, 0.3));\n",
              "      fill: #FFFFFF;\n",
              "    }\n",
              "  </style>\n",
              "\n",
              "      <script>\n",
              "        const buttonEl =\n",
              "          document.querySelector('#df-d5630864-3ca5-4898-972f-c8a7ecfe1aae button.colab-df-convert');\n",
              "        buttonEl.style.display =\n",
              "          google.colab.kernel.accessAllowed ? 'block' : 'none';\n",
              "\n",
              "        async function convertToInteractive(key) {\n",
              "          const element = document.querySelector('#df-d5630864-3ca5-4898-972f-c8a7ecfe1aae');\n",
              "          const dataTable =\n",
              "            await google.colab.kernel.invokeFunction('convertToInteractive',\n",
              "                                                     [key], {});\n",
              "          if (!dataTable) return;\n",
              "\n",
              "          const docLinkHtml = 'Like what you see? Visit the ' +\n",
              "            '<a target=\"_blank\" href=https://colab.research.google.com/notebooks/data_table.ipynb>data table notebook</a>'\n",
              "            + ' to learn more about interactive tables.';\n",
              "          element.innerHTML = '';\n",
              "          dataTable['output_type'] = 'display_data';\n",
              "          await google.colab.output.renderOutput(dataTable, element);\n",
              "          const docLink = document.createElement('div');\n",
              "          docLink.innerHTML = docLinkHtml;\n",
              "          element.appendChild(docLink);\n",
              "        }\n",
              "      </script>\n",
              "    </div>\n",
              "  </div>\n",
              "  "
            ],
            "text/plain": [
              "   Millas_Por_Galon  Cilindros  ...       Anyo  Caballo_De_Fuerza\n",
              "0              18.0          8  ...  1/01/1970              130.0\n",
              "1              15.0          8  ...  1/01/1970              165.0\n",
              "2              18.0          8  ...  1/01/1970              150.0\n",
              "3              16.0          8  ...  1/01/1970              150.0\n",
              "4              17.0          8  ...  1/01/1970              140.0\n",
              "\n",
              "[5 rows x 9 columns]"
            ]
          },
          "metadata": {},
          "execution_count": 2
        }
      ],
      "source": [
        "import pandas as pd\n",
        "df = pd.read_csv('/content/autos.csv', sep = ';') # archivo *.csv, idicamos sep = ';' por la forma en que se encuntran los datos.\n",
        "df.head()"
      ]
    },
    {
      "cell_type": "markdown",
      "source": [
        "# **Limpieza y tratamiento de las variables**"
      ],
      "metadata": {
        "id": "bChJmtBjD4jr"
      }
    },
    {
      "cell_type": "code",
      "source": [
        "df.info() # obtenemos información de la base datos."
      ],
      "metadata": {
        "colab": {
          "base_uri": "https://localhost:8080/"
        },
        "id": "_6lgqR_k6wOM",
        "outputId": "01a26465-0459-412b-a08a-61e05d9cb746"
      },
      "execution_count": null,
      "outputs": [
        {
          "output_type": "stream",
          "name": "stdout",
          "text": [
            "<class 'pandas.core.frame.DataFrame'>\n",
            "RangeIndex: 406 entries, 0 to 405\n",
            "Data columns (total 9 columns):\n",
            " #   Column             Non-Null Count  Dtype  \n",
            "---  ------             --------------  -----  \n",
            " 0   Millas_Por_Galon   398 non-null    float64\n",
            " 1   Cilindros          406 non-null    int64  \n",
            " 2   Pais_Origen        406 non-null    object \n",
            " 3   Peso_En_Libras     406 non-null    int64  \n",
            " 4   Desplazamiento     406 non-null    float64\n",
            " 5   Aceleracion        406 non-null    float64\n",
            " 6   Nombre             406 non-null    object \n",
            " 7   Anyo               406 non-null    object \n",
            " 8   Caballo_De_Fuerza  400 non-null    float64\n",
            "dtypes: float64(4), int64(2), object(3)\n",
            "memory usage: 28.7+ KB\n"
          ]
        }
      ]
    },
    {
      "cell_type": "code",
      "source": [
        "# total datos perdidos\n",
        "pd.DataFrame(df.isna().sum(), columns = ['Perdidos'])"
      ],
      "metadata": {
        "id": "bosupDXZ9ZJA",
        "colab": {
          "base_uri": "https://localhost:8080/",
          "height": 331
        },
        "outputId": "62e038c5-237c-43dd-9ac2-59f45f3aa8a6"
      },
      "execution_count": null,
      "outputs": [
        {
          "output_type": "execute_result",
          "data": {
            "text/html": [
              "\n",
              "  <div id=\"df-4dd3eded-c528-4a18-a846-1bb9fc88b339\">\n",
              "    <div class=\"colab-df-container\">\n",
              "      <div>\n",
              "<style scoped>\n",
              "    .dataframe tbody tr th:only-of-type {\n",
              "        vertical-align: middle;\n",
              "    }\n",
              "\n",
              "    .dataframe tbody tr th {\n",
              "        vertical-align: top;\n",
              "    }\n",
              "\n",
              "    .dataframe thead th {\n",
              "        text-align: right;\n",
              "    }\n",
              "</style>\n",
              "<table border=\"1\" class=\"dataframe\">\n",
              "  <thead>\n",
              "    <tr style=\"text-align: right;\">\n",
              "      <th></th>\n",
              "      <th>Perdidos</th>\n",
              "    </tr>\n",
              "  </thead>\n",
              "  <tbody>\n",
              "    <tr>\n",
              "      <th>Millas_Por_Galon</th>\n",
              "      <td>8</td>\n",
              "    </tr>\n",
              "    <tr>\n",
              "      <th>Cilindros</th>\n",
              "      <td>0</td>\n",
              "    </tr>\n",
              "    <tr>\n",
              "      <th>Pais_Origen</th>\n",
              "      <td>0</td>\n",
              "    </tr>\n",
              "    <tr>\n",
              "      <th>Peso_En_Libras</th>\n",
              "      <td>0</td>\n",
              "    </tr>\n",
              "    <tr>\n",
              "      <th>Desplazamiento</th>\n",
              "      <td>0</td>\n",
              "    </tr>\n",
              "    <tr>\n",
              "      <th>Aceleracion</th>\n",
              "      <td>0</td>\n",
              "    </tr>\n",
              "    <tr>\n",
              "      <th>Nombre</th>\n",
              "      <td>0</td>\n",
              "    </tr>\n",
              "    <tr>\n",
              "      <th>Anyo</th>\n",
              "      <td>0</td>\n",
              "    </tr>\n",
              "    <tr>\n",
              "      <th>Caballo_De_Fuerza</th>\n",
              "      <td>6</td>\n",
              "    </tr>\n",
              "  </tbody>\n",
              "</table>\n",
              "</div>\n",
              "      <button class=\"colab-df-convert\" onclick=\"convertToInteractive('df-4dd3eded-c528-4a18-a846-1bb9fc88b339')\"\n",
              "              title=\"Convert this dataframe to an interactive table.\"\n",
              "              style=\"display:none;\">\n",
              "        \n",
              "  <svg xmlns=\"http://www.w3.org/2000/svg\" height=\"24px\"viewBox=\"0 0 24 24\"\n",
              "       width=\"24px\">\n",
              "    <path d=\"M0 0h24v24H0V0z\" fill=\"none\"/>\n",
              "    <path d=\"M18.56 5.44l.94 2.06.94-2.06 2.06-.94-2.06-.94-.94-2.06-.94 2.06-2.06.94zm-11 1L8.5 8.5l.94-2.06 2.06-.94-2.06-.94L8.5 2.5l-.94 2.06-2.06.94zm10 10l.94 2.06.94-2.06 2.06-.94-2.06-.94-.94-2.06-.94 2.06-2.06.94z\"/><path d=\"M17.41 7.96l-1.37-1.37c-.4-.4-.92-.59-1.43-.59-.52 0-1.04.2-1.43.59L10.3 9.45l-7.72 7.72c-.78.78-.78 2.05 0 2.83L4 21.41c.39.39.9.59 1.41.59.51 0 1.02-.2 1.41-.59l7.78-7.78 2.81-2.81c.8-.78.8-2.07 0-2.86zM5.41 20L4 18.59l7.72-7.72 1.47 1.35L5.41 20z\"/>\n",
              "  </svg>\n",
              "      </button>\n",
              "      \n",
              "  <style>\n",
              "    .colab-df-container {\n",
              "      display:flex;\n",
              "      flex-wrap:wrap;\n",
              "      gap: 12px;\n",
              "    }\n",
              "\n",
              "    .colab-df-convert {\n",
              "      background-color: #E8F0FE;\n",
              "      border: none;\n",
              "      border-radius: 50%;\n",
              "      cursor: pointer;\n",
              "      display: none;\n",
              "      fill: #1967D2;\n",
              "      height: 32px;\n",
              "      padding: 0 0 0 0;\n",
              "      width: 32px;\n",
              "    }\n",
              "\n",
              "    .colab-df-convert:hover {\n",
              "      background-color: #E2EBFA;\n",
              "      box-shadow: 0px 1px 2px rgba(60, 64, 67, 0.3), 0px 1px 3px 1px rgba(60, 64, 67, 0.15);\n",
              "      fill: #174EA6;\n",
              "    }\n",
              "\n",
              "    [theme=dark] .colab-df-convert {\n",
              "      background-color: #3B4455;\n",
              "      fill: #D2E3FC;\n",
              "    }\n",
              "\n",
              "    [theme=dark] .colab-df-convert:hover {\n",
              "      background-color: #434B5C;\n",
              "      box-shadow: 0px 1px 3px 1px rgba(0, 0, 0, 0.15);\n",
              "      filter: drop-shadow(0px 1px 2px rgba(0, 0, 0, 0.3));\n",
              "      fill: #FFFFFF;\n",
              "    }\n",
              "  </style>\n",
              "\n",
              "      <script>\n",
              "        const buttonEl =\n",
              "          document.querySelector('#df-4dd3eded-c528-4a18-a846-1bb9fc88b339 button.colab-df-convert');\n",
              "        buttonEl.style.display =\n",
              "          google.colab.kernel.accessAllowed ? 'block' : 'none';\n",
              "\n",
              "        async function convertToInteractive(key) {\n",
              "          const element = document.querySelector('#df-4dd3eded-c528-4a18-a846-1bb9fc88b339');\n",
              "          const dataTable =\n",
              "            await google.colab.kernel.invokeFunction('convertToInteractive',\n",
              "                                                     [key], {});\n",
              "          if (!dataTable) return;\n",
              "\n",
              "          const docLinkHtml = 'Like what you see? Visit the ' +\n",
              "            '<a target=\"_blank\" href=https://colab.research.google.com/notebooks/data_table.ipynb>data table notebook</a>'\n",
              "            + ' to learn more about interactive tables.';\n",
              "          element.innerHTML = '';\n",
              "          dataTable['output_type'] = 'display_data';\n",
              "          await google.colab.output.renderOutput(dataTable, element);\n",
              "          const docLink = document.createElement('div');\n",
              "          docLink.innerHTML = docLinkHtml;\n",
              "          element.appendChild(docLink);\n",
              "        }\n",
              "      </script>\n",
              "    </div>\n",
              "  </div>\n",
              "  "
            ],
            "text/plain": [
              "                   Perdidos\n",
              "Millas_Por_Galon          8\n",
              "Cilindros                 0\n",
              "Pais_Origen               0\n",
              "Peso_En_Libras            0\n",
              "Desplazamiento            0\n",
              "Aceleracion               0\n",
              "Nombre                    0\n",
              "Anyo                      0\n",
              "Caballo_De_Fuerza         6"
            ]
          },
          "metadata": {},
          "execution_count": 4
        }
      ]
    },
    {
      "cell_type": "code",
      "source": [
        "df.sort_values('Millas_Por_Galon', na_position='first').head(10) # Mostramos los datos perdidos de la variable Millas_Por_Galon al inicio"
      ],
      "metadata": {
        "id": "P3WnJgok8bPm",
        "colab": {
          "base_uri": "https://localhost:8080/",
          "height": 406
        },
        "outputId": "db66f4b7-561e-4b2a-a64d-db4cae0c945f"
      },
      "execution_count": null,
      "outputs": [
        {
          "output_type": "execute_result",
          "data": {
            "text/html": [
              "\n",
              "  <div id=\"df-cf34e928-91e0-43e6-aa36-67da56c84c79\">\n",
              "    <div class=\"colab-df-container\">\n",
              "      <div>\n",
              "<style scoped>\n",
              "    .dataframe tbody tr th:only-of-type {\n",
              "        vertical-align: middle;\n",
              "    }\n",
              "\n",
              "    .dataframe tbody tr th {\n",
              "        vertical-align: top;\n",
              "    }\n",
              "\n",
              "    .dataframe thead th {\n",
              "        text-align: right;\n",
              "    }\n",
              "</style>\n",
              "<table border=\"1\" class=\"dataframe\">\n",
              "  <thead>\n",
              "    <tr style=\"text-align: right;\">\n",
              "      <th></th>\n",
              "      <th>Millas_Por_Galon</th>\n",
              "      <th>Cilindros</th>\n",
              "      <th>Pais_Origen</th>\n",
              "      <th>Peso_En_Libras</th>\n",
              "      <th>Desplazamiento</th>\n",
              "      <th>Aceleracion</th>\n",
              "      <th>Nombre</th>\n",
              "      <th>Anyo</th>\n",
              "      <th>Caballo_De_Fuerza</th>\n",
              "    </tr>\n",
              "  </thead>\n",
              "  <tbody>\n",
              "    <tr>\n",
              "      <th>10</th>\n",
              "      <td>NaN</td>\n",
              "      <td>4</td>\n",
              "      <td>Europe</td>\n",
              "      <td>3090</td>\n",
              "      <td>133.0</td>\n",
              "      <td>17.5</td>\n",
              "      <td>citroen ds-21 pallas</td>\n",
              "      <td>1/01/1970</td>\n",
              "      <td>115.0</td>\n",
              "    </tr>\n",
              "    <tr>\n",
              "      <th>11</th>\n",
              "      <td>NaN</td>\n",
              "      <td>8</td>\n",
              "      <td>USA</td>\n",
              "      <td>4142</td>\n",
              "      <td>350.0</td>\n",
              "      <td>11.5</td>\n",
              "      <td>chevrolet chevelle concours (sw)</td>\n",
              "      <td>1/01/1970</td>\n",
              "      <td>165.0</td>\n",
              "    </tr>\n",
              "    <tr>\n",
              "      <th>12</th>\n",
              "      <td>NaN</td>\n",
              "      <td>8</td>\n",
              "      <td>USA</td>\n",
              "      <td>4034</td>\n",
              "      <td>351.0</td>\n",
              "      <td>11.0</td>\n",
              "      <td>ford torino (sw)</td>\n",
              "      <td>1/01/1970</td>\n",
              "      <td>153.0</td>\n",
              "    </tr>\n",
              "    <tr>\n",
              "      <th>13</th>\n",
              "      <td>NaN</td>\n",
              "      <td>8</td>\n",
              "      <td>USA</td>\n",
              "      <td>4166</td>\n",
              "      <td>383.0</td>\n",
              "      <td>10.5</td>\n",
              "      <td>plymouth satellite (sw)</td>\n",
              "      <td>1/01/1970</td>\n",
              "      <td>175.0</td>\n",
              "    </tr>\n",
              "    <tr>\n",
              "      <th>14</th>\n",
              "      <td>NaN</td>\n",
              "      <td>8</td>\n",
              "      <td>USA</td>\n",
              "      <td>3850</td>\n",
              "      <td>360.0</td>\n",
              "      <td>11.0</td>\n",
              "      <td>amc rebel sst (sw)</td>\n",
              "      <td>1/01/1970</td>\n",
              "      <td>175.0</td>\n",
              "    </tr>\n",
              "    <tr>\n",
              "      <th>17</th>\n",
              "      <td>NaN</td>\n",
              "      <td>8</td>\n",
              "      <td>USA</td>\n",
              "      <td>3353</td>\n",
              "      <td>302.0</td>\n",
              "      <td>8.0</td>\n",
              "      <td>ford mustang boss 302</td>\n",
              "      <td>1/01/1970</td>\n",
              "      <td>140.0</td>\n",
              "    </tr>\n",
              "    <tr>\n",
              "      <th>39</th>\n",
              "      <td>NaN</td>\n",
              "      <td>4</td>\n",
              "      <td>Europe</td>\n",
              "      <td>1978</td>\n",
              "      <td>97.0</td>\n",
              "      <td>20.0</td>\n",
              "      <td>volkswagen super beetle 117</td>\n",
              "      <td>1/01/1971</td>\n",
              "      <td>48.0</td>\n",
              "    </tr>\n",
              "    <tr>\n",
              "      <th>367</th>\n",
              "      <td>NaN</td>\n",
              "      <td>4</td>\n",
              "      <td>Europe</td>\n",
              "      <td>2800</td>\n",
              "      <td>121.0</td>\n",
              "      <td>15.4</td>\n",
              "      <td>saab 900s</td>\n",
              "      <td>1/01/1982</td>\n",
              "      <td>110.0</td>\n",
              "    </tr>\n",
              "    <tr>\n",
              "      <th>34</th>\n",
              "      <td>9.0</td>\n",
              "      <td>8</td>\n",
              "      <td>USA</td>\n",
              "      <td>4732</td>\n",
              "      <td>304.0</td>\n",
              "      <td>18.5</td>\n",
              "      <td>hi 1200d</td>\n",
              "      <td>1/01/1970</td>\n",
              "      <td>193.0</td>\n",
              "    </tr>\n",
              "    <tr>\n",
              "      <th>31</th>\n",
              "      <td>10.0</td>\n",
              "      <td>8</td>\n",
              "      <td>USA</td>\n",
              "      <td>4615</td>\n",
              "      <td>360.0</td>\n",
              "      <td>14.0</td>\n",
              "      <td>ford f250</td>\n",
              "      <td>1/01/1970</td>\n",
              "      <td>215.0</td>\n",
              "    </tr>\n",
              "  </tbody>\n",
              "</table>\n",
              "</div>\n",
              "      <button class=\"colab-df-convert\" onclick=\"convertToInteractive('df-cf34e928-91e0-43e6-aa36-67da56c84c79')\"\n",
              "              title=\"Convert this dataframe to an interactive table.\"\n",
              "              style=\"display:none;\">\n",
              "        \n",
              "  <svg xmlns=\"http://www.w3.org/2000/svg\" height=\"24px\"viewBox=\"0 0 24 24\"\n",
              "       width=\"24px\">\n",
              "    <path d=\"M0 0h24v24H0V0z\" fill=\"none\"/>\n",
              "    <path d=\"M18.56 5.44l.94 2.06.94-2.06 2.06-.94-2.06-.94-.94-2.06-.94 2.06-2.06.94zm-11 1L8.5 8.5l.94-2.06 2.06-.94-2.06-.94L8.5 2.5l-.94 2.06-2.06.94zm10 10l.94 2.06.94-2.06 2.06-.94-2.06-.94-.94-2.06-.94 2.06-2.06.94z\"/><path d=\"M17.41 7.96l-1.37-1.37c-.4-.4-.92-.59-1.43-.59-.52 0-1.04.2-1.43.59L10.3 9.45l-7.72 7.72c-.78.78-.78 2.05 0 2.83L4 21.41c.39.39.9.59 1.41.59.51 0 1.02-.2 1.41-.59l7.78-7.78 2.81-2.81c.8-.78.8-2.07 0-2.86zM5.41 20L4 18.59l7.72-7.72 1.47 1.35L5.41 20z\"/>\n",
              "  </svg>\n",
              "      </button>\n",
              "      \n",
              "  <style>\n",
              "    .colab-df-container {\n",
              "      display:flex;\n",
              "      flex-wrap:wrap;\n",
              "      gap: 12px;\n",
              "    }\n",
              "\n",
              "    .colab-df-convert {\n",
              "      background-color: #E8F0FE;\n",
              "      border: none;\n",
              "      border-radius: 50%;\n",
              "      cursor: pointer;\n",
              "      display: none;\n",
              "      fill: #1967D2;\n",
              "      height: 32px;\n",
              "      padding: 0 0 0 0;\n",
              "      width: 32px;\n",
              "    }\n",
              "\n",
              "    .colab-df-convert:hover {\n",
              "      background-color: #E2EBFA;\n",
              "      box-shadow: 0px 1px 2px rgba(60, 64, 67, 0.3), 0px 1px 3px 1px rgba(60, 64, 67, 0.15);\n",
              "      fill: #174EA6;\n",
              "    }\n",
              "\n",
              "    [theme=dark] .colab-df-convert {\n",
              "      background-color: #3B4455;\n",
              "      fill: #D2E3FC;\n",
              "    }\n",
              "\n",
              "    [theme=dark] .colab-df-convert:hover {\n",
              "      background-color: #434B5C;\n",
              "      box-shadow: 0px 1px 3px 1px rgba(0, 0, 0, 0.15);\n",
              "      filter: drop-shadow(0px 1px 2px rgba(0, 0, 0, 0.3));\n",
              "      fill: #FFFFFF;\n",
              "    }\n",
              "  </style>\n",
              "\n",
              "      <script>\n",
              "        const buttonEl =\n",
              "          document.querySelector('#df-cf34e928-91e0-43e6-aa36-67da56c84c79 button.colab-df-convert');\n",
              "        buttonEl.style.display =\n",
              "          google.colab.kernel.accessAllowed ? 'block' : 'none';\n",
              "\n",
              "        async function convertToInteractive(key) {\n",
              "          const element = document.querySelector('#df-cf34e928-91e0-43e6-aa36-67da56c84c79');\n",
              "          const dataTable =\n",
              "            await google.colab.kernel.invokeFunction('convertToInteractive',\n",
              "                                                     [key], {});\n",
              "          if (!dataTable) return;\n",
              "\n",
              "          const docLinkHtml = 'Like what you see? Visit the ' +\n",
              "            '<a target=\"_blank\" href=https://colab.research.google.com/notebooks/data_table.ipynb>data table notebook</a>'\n",
              "            + ' to learn more about interactive tables.';\n",
              "          element.innerHTML = '';\n",
              "          dataTable['output_type'] = 'display_data';\n",
              "          await google.colab.output.renderOutput(dataTable, element);\n",
              "          const docLink = document.createElement('div');\n",
              "          docLink.innerHTML = docLinkHtml;\n",
              "          element.appendChild(docLink);\n",
              "        }\n",
              "      </script>\n",
              "    </div>\n",
              "  </div>\n",
              "  "
            ],
            "text/plain": [
              "     Millas_Por_Galon  Cilindros  ...       Anyo  Caballo_De_Fuerza\n",
              "10                NaN          4  ...  1/01/1970              115.0\n",
              "11                NaN          8  ...  1/01/1970              165.0\n",
              "12                NaN          8  ...  1/01/1970              153.0\n",
              "13                NaN          8  ...  1/01/1970              175.0\n",
              "14                NaN          8  ...  1/01/1970              175.0\n",
              "17                NaN          8  ...  1/01/1970              140.0\n",
              "39                NaN          4  ...  1/01/1971               48.0\n",
              "367               NaN          4  ...  1/01/1982              110.0\n",
              "34                9.0          8  ...  1/01/1970              193.0\n",
              "31               10.0          8  ...  1/01/1970              215.0\n",
              "\n",
              "[10 rows x 9 columns]"
            ]
          },
          "metadata": {},
          "execution_count": 5
        }
      ]
    },
    {
      "cell_type": "code",
      "source": [
        "df.sort_values('Caballo_De_Fuerza', na_position='first').head(10) # Mostramos los datos perdidos de la variable Caballo_De_Fuerza al inicio"
      ],
      "metadata": {
        "id": "I-ccUlHJ_kx8",
        "colab": {
          "base_uri": "https://localhost:8080/",
          "height": 406
        },
        "outputId": "869b34b9-b5d2-409b-f9fa-aaca2d60ac1e"
      },
      "execution_count": null,
      "outputs": [
        {
          "output_type": "execute_result",
          "data": {
            "text/html": [
              "\n",
              "  <div id=\"df-4c68dba0-c976-43bd-9a0b-3272a61c8329\">\n",
              "    <div class=\"colab-df-container\">\n",
              "      <div>\n",
              "<style scoped>\n",
              "    .dataframe tbody tr th:only-of-type {\n",
              "        vertical-align: middle;\n",
              "    }\n",
              "\n",
              "    .dataframe tbody tr th {\n",
              "        vertical-align: top;\n",
              "    }\n",
              "\n",
              "    .dataframe thead th {\n",
              "        text-align: right;\n",
              "    }\n",
              "</style>\n",
              "<table border=\"1\" class=\"dataframe\">\n",
              "  <thead>\n",
              "    <tr style=\"text-align: right;\">\n",
              "      <th></th>\n",
              "      <th>Millas_Por_Galon</th>\n",
              "      <th>Cilindros</th>\n",
              "      <th>Pais_Origen</th>\n",
              "      <th>Peso_En_Libras</th>\n",
              "      <th>Desplazamiento</th>\n",
              "      <th>Aceleracion</th>\n",
              "      <th>Nombre</th>\n",
              "      <th>Anyo</th>\n",
              "      <th>Caballo_De_Fuerza</th>\n",
              "    </tr>\n",
              "  </thead>\n",
              "  <tbody>\n",
              "    <tr>\n",
              "      <th>38</th>\n",
              "      <td>25.0</td>\n",
              "      <td>4</td>\n",
              "      <td>USA</td>\n",
              "      <td>2046</td>\n",
              "      <td>98.0</td>\n",
              "      <td>19.0</td>\n",
              "      <td>ford pinto</td>\n",
              "      <td>1/01/1971</td>\n",
              "      <td>NaN</td>\n",
              "    </tr>\n",
              "    <tr>\n",
              "      <th>133</th>\n",
              "      <td>21.0</td>\n",
              "      <td>6</td>\n",
              "      <td>USA</td>\n",
              "      <td>2875</td>\n",
              "      <td>200.0</td>\n",
              "      <td>17.0</td>\n",
              "      <td>ford maverick</td>\n",
              "      <td>1/01/1974</td>\n",
              "      <td>NaN</td>\n",
              "    </tr>\n",
              "    <tr>\n",
              "      <th>337</th>\n",
              "      <td>40.9</td>\n",
              "      <td>4</td>\n",
              "      <td>Europe</td>\n",
              "      <td>1835</td>\n",
              "      <td>85.0</td>\n",
              "      <td>17.3</td>\n",
              "      <td>renault lecar deluxe</td>\n",
              "      <td>1/01/1980</td>\n",
              "      <td>NaN</td>\n",
              "    </tr>\n",
              "    <tr>\n",
              "      <th>343</th>\n",
              "      <td>23.6</td>\n",
              "      <td>4</td>\n",
              "      <td>USA</td>\n",
              "      <td>2905</td>\n",
              "      <td>140.0</td>\n",
              "      <td>14.3</td>\n",
              "      <td>ford mustang cobra</td>\n",
              "      <td>1/01/1980</td>\n",
              "      <td>NaN</td>\n",
              "    </tr>\n",
              "    <tr>\n",
              "      <th>361</th>\n",
              "      <td>34.5</td>\n",
              "      <td>4</td>\n",
              "      <td>Europe</td>\n",
              "      <td>2320</td>\n",
              "      <td>100.0</td>\n",
              "      <td>15.8</td>\n",
              "      <td>renault 18i</td>\n",
              "      <td>1/01/1982</td>\n",
              "      <td>NaN</td>\n",
              "    </tr>\n",
              "    <tr>\n",
              "      <th>382</th>\n",
              "      <td>23.0</td>\n",
              "      <td>4</td>\n",
              "      <td>USA</td>\n",
              "      <td>3035</td>\n",
              "      <td>151.0</td>\n",
              "      <td>20.5</td>\n",
              "      <td>amc concord dl</td>\n",
              "      <td>1/01/1982</td>\n",
              "      <td>NaN</td>\n",
              "    </tr>\n",
              "    <tr>\n",
              "      <th>109</th>\n",
              "      <td>26.0</td>\n",
              "      <td>4</td>\n",
              "      <td>Europe</td>\n",
              "      <td>1950</td>\n",
              "      <td>97.0</td>\n",
              "      <td>21.0</td>\n",
              "      <td>volkswagen super beetle</td>\n",
              "      <td>1/01/1973</td>\n",
              "      <td>46.0</td>\n",
              "    </tr>\n",
              "    <tr>\n",
              "      <th>25</th>\n",
              "      <td>26.0</td>\n",
              "      <td>4</td>\n",
              "      <td>Europe</td>\n",
              "      <td>1835</td>\n",
              "      <td>97.0</td>\n",
              "      <td>20.5</td>\n",
              "      <td>volkswagen 1131 deluxe sedan</td>\n",
              "      <td>1/01/1970</td>\n",
              "      <td>46.0</td>\n",
              "    </tr>\n",
              "    <tr>\n",
              "      <th>39</th>\n",
              "      <td>NaN</td>\n",
              "      <td>4</td>\n",
              "      <td>Europe</td>\n",
              "      <td>1978</td>\n",
              "      <td>97.0</td>\n",
              "      <td>20.0</td>\n",
              "      <td>volkswagen super beetle 117</td>\n",
              "      <td>1/01/1971</td>\n",
              "      <td>48.0</td>\n",
              "    </tr>\n",
              "    <tr>\n",
              "      <th>251</th>\n",
              "      <td>43.1</td>\n",
              "      <td>4</td>\n",
              "      <td>Europe</td>\n",
              "      <td>1985</td>\n",
              "      <td>90.0</td>\n",
              "      <td>21.5</td>\n",
              "      <td>volkswagen rabbit custom diesel</td>\n",
              "      <td>1/01/1978</td>\n",
              "      <td>48.0</td>\n",
              "    </tr>\n",
              "  </tbody>\n",
              "</table>\n",
              "</div>\n",
              "      <button class=\"colab-df-convert\" onclick=\"convertToInteractive('df-4c68dba0-c976-43bd-9a0b-3272a61c8329')\"\n",
              "              title=\"Convert this dataframe to an interactive table.\"\n",
              "              style=\"display:none;\">\n",
              "        \n",
              "  <svg xmlns=\"http://www.w3.org/2000/svg\" height=\"24px\"viewBox=\"0 0 24 24\"\n",
              "       width=\"24px\">\n",
              "    <path d=\"M0 0h24v24H0V0z\" fill=\"none\"/>\n",
              "    <path d=\"M18.56 5.44l.94 2.06.94-2.06 2.06-.94-2.06-.94-.94-2.06-.94 2.06-2.06.94zm-11 1L8.5 8.5l.94-2.06 2.06-.94-2.06-.94L8.5 2.5l-.94 2.06-2.06.94zm10 10l.94 2.06.94-2.06 2.06-.94-2.06-.94-.94-2.06-.94 2.06-2.06.94z\"/><path d=\"M17.41 7.96l-1.37-1.37c-.4-.4-.92-.59-1.43-.59-.52 0-1.04.2-1.43.59L10.3 9.45l-7.72 7.72c-.78.78-.78 2.05 0 2.83L4 21.41c.39.39.9.59 1.41.59.51 0 1.02-.2 1.41-.59l7.78-7.78 2.81-2.81c.8-.78.8-2.07 0-2.86zM5.41 20L4 18.59l7.72-7.72 1.47 1.35L5.41 20z\"/>\n",
              "  </svg>\n",
              "      </button>\n",
              "      \n",
              "  <style>\n",
              "    .colab-df-container {\n",
              "      display:flex;\n",
              "      flex-wrap:wrap;\n",
              "      gap: 12px;\n",
              "    }\n",
              "\n",
              "    .colab-df-convert {\n",
              "      background-color: #E8F0FE;\n",
              "      border: none;\n",
              "      border-radius: 50%;\n",
              "      cursor: pointer;\n",
              "      display: none;\n",
              "      fill: #1967D2;\n",
              "      height: 32px;\n",
              "      padding: 0 0 0 0;\n",
              "      width: 32px;\n",
              "    }\n",
              "\n",
              "    .colab-df-convert:hover {\n",
              "      background-color: #E2EBFA;\n",
              "      box-shadow: 0px 1px 2px rgba(60, 64, 67, 0.3), 0px 1px 3px 1px rgba(60, 64, 67, 0.15);\n",
              "      fill: #174EA6;\n",
              "    }\n",
              "\n",
              "    [theme=dark] .colab-df-convert {\n",
              "      background-color: #3B4455;\n",
              "      fill: #D2E3FC;\n",
              "    }\n",
              "\n",
              "    [theme=dark] .colab-df-convert:hover {\n",
              "      background-color: #434B5C;\n",
              "      box-shadow: 0px 1px 3px 1px rgba(0, 0, 0, 0.15);\n",
              "      filter: drop-shadow(0px 1px 2px rgba(0, 0, 0, 0.3));\n",
              "      fill: #FFFFFF;\n",
              "    }\n",
              "  </style>\n",
              "\n",
              "      <script>\n",
              "        const buttonEl =\n",
              "          document.querySelector('#df-4c68dba0-c976-43bd-9a0b-3272a61c8329 button.colab-df-convert');\n",
              "        buttonEl.style.display =\n",
              "          google.colab.kernel.accessAllowed ? 'block' : 'none';\n",
              "\n",
              "        async function convertToInteractive(key) {\n",
              "          const element = document.querySelector('#df-4c68dba0-c976-43bd-9a0b-3272a61c8329');\n",
              "          const dataTable =\n",
              "            await google.colab.kernel.invokeFunction('convertToInteractive',\n",
              "                                                     [key], {});\n",
              "          if (!dataTable) return;\n",
              "\n",
              "          const docLinkHtml = 'Like what you see? Visit the ' +\n",
              "            '<a target=\"_blank\" href=https://colab.research.google.com/notebooks/data_table.ipynb>data table notebook</a>'\n",
              "            + ' to learn more about interactive tables.';\n",
              "          element.innerHTML = '';\n",
              "          dataTable['output_type'] = 'display_data';\n",
              "          await google.colab.output.renderOutput(dataTable, element);\n",
              "          const docLink = document.createElement('div');\n",
              "          docLink.innerHTML = docLinkHtml;\n",
              "          element.appendChild(docLink);\n",
              "        }\n",
              "      </script>\n",
              "    </div>\n",
              "  </div>\n",
              "  "
            ],
            "text/plain": [
              "     Millas_Por_Galon  Cilindros  ...       Anyo  Caballo_De_Fuerza\n",
              "38               25.0          4  ...  1/01/1971                NaN\n",
              "133              21.0          6  ...  1/01/1974                NaN\n",
              "337              40.9          4  ...  1/01/1980                NaN\n",
              "343              23.6          4  ...  1/01/1980                NaN\n",
              "361              34.5          4  ...  1/01/1982                NaN\n",
              "382              23.0          4  ...  1/01/1982                NaN\n",
              "109              26.0          4  ...  1/01/1973               46.0\n",
              "25               26.0          4  ...  1/01/1970               46.0\n",
              "39                NaN          4  ...  1/01/1971               48.0\n",
              "251              43.1          4  ...  1/01/1978               48.0\n",
              "\n",
              "[10 rows x 9 columns]"
            ]
          },
          "metadata": {},
          "execution_count": 6
        }
      ]
    },
    {
      "cell_type": "code",
      "source": [
        "# Se seleccionan las variable de tipo numericas para su previo tratamiento (inputación).\n",
        "# 'Millas_Por_Galon', 'Peso_En_Libras', 'Desplazamiento', 'Aceleracion', 'Caballo_De_Fuerza'\n",
        "data_num = df.loc[:, ['Millas_Por_Galon', 'Peso_En_Libras', 'Desplazamiento', 'Aceleracion', 'Caballo_De_Fuerza']] \n",
        "from sklearn.impute import KNNImputer\n",
        "\n",
        "imputacion_NP = KNNImputer(n_neighbors=2)\n",
        "data_num =imputacion_NP.fit_transform(data_num)"
      ],
      "metadata": {
        "id": "vFFy7vkrASjQ"
      },
      "execution_count": null,
      "outputs": []
    },
    {
      "cell_type": "code",
      "source": [
        "data_num"
      ],
      "metadata": {
        "colab": {
          "base_uri": "https://localhost:8080/"
        },
        "id": "dDsGPdU331ow",
        "outputId": "32d67797-5e9c-4d4d-e528-0ad2e08cd98d"
      },
      "execution_count": null,
      "outputs": [
        {
          "output_type": "execute_result",
          "data": {
            "text/plain": [
              "array([[  18. , 3504. ,  307. ,   12. ,  130. ],\n",
              "       [  15. , 3693. ,  350. ,   11.5,  165. ],\n",
              "       [  18. , 3436. ,  318. ,   11. ,  150. ],\n",
              "       ...,\n",
              "       [  32. , 2295. ,  135. ,   11.6,   84. ],\n",
              "       [  28. , 2625. ,  120. ,   18.6,   79. ],\n",
              "       [  31. , 2720. ,  119. ,   19.4,   82. ]])"
            ]
          },
          "metadata": {},
          "execution_count": 8
        }
      ]
    },
    {
      "cell_type": "code",
      "source": [
        "# Dado que se obtiene un arreglo, se tranforma este en una base de Datos.\n",
        "data_num = pd.DataFrame(\n",
        "    data=data_num,\n",
        "    columns=['Millas_Por_Galon', 'Peso_En_Libras', 'Desplazamiento', 'Aceleracion', 'Caballo_De_Fuerza'])"
      ],
      "metadata": {
        "id": "AYcQK_wEFVEY"
      },
      "execution_count": null,
      "outputs": []
    },
    {
      "cell_type": "code",
      "source": [
        "# Verificación de no exitencia de datos faltantes en el nuevo dataframe.\n",
        "data_num.isnull().sum()"
      ],
      "metadata": {
        "colab": {
          "base_uri": "https://localhost:8080/"
        },
        "id": "mRQwe0qraVZ3",
        "outputId": "9254b6f8-1bb5-4c2c-c11a-0dfc7b1de6b2"
      },
      "execution_count": null,
      "outputs": [
        {
          "output_type": "execute_result",
          "data": {
            "text/plain": [
              "Millas_Por_Galon     0\n",
              "Peso_En_Libras       0\n",
              "Desplazamiento       0\n",
              "Aceleracion          0\n",
              "Caballo_De_Fuerza    0\n",
              "dtype: int64"
            ]
          },
          "metadata": {},
          "execution_count": 10
        }
      ]
    },
    {
      "cell_type": "code",
      "source": [
        "# Se seleccionan las variable de tipo string (caracter).\n",
        "data_str = df.loc[:,['Pais_Origen','Nombre','Anyo','Cilindros']]\n",
        "data = pd.concat([data_str, data_num], axis = 1, sort = False)"
      ],
      "metadata": {
        "id": "zWVqOHADbL2E"
      },
      "execution_count": null,
      "outputs": []
    },
    {
      "cell_type": "code",
      "source": [
        "# Juntamos ambas bases.\n",
        "data = pd.concat([data_str, data_num], axis = 1, sort = False)"
      ],
      "metadata": {
        "id": "6nTe870kwqR1"
      },
      "execution_count": null,
      "outputs": []
    },
    {
      "cell_type": "markdown",
      "source": [
        "# **Generar 6 nuevas variables aplicando los siguientes criterios con las variables numéricas:**"
      ],
      "metadata": {
        "id": "16TMKwubF5Ih"
      }
    },
    {
      "cell_type": "code",
      "source": [
        "data.columns"
      ],
      "metadata": {
        "colab": {
          "base_uri": "https://localhost:8080/"
        },
        "id": "at4yH-6gU4jO",
        "outputId": "4bd1967f-1c19-4315-de2d-0221bf999e44"
      },
      "execution_count": null,
      "outputs": [
        {
          "output_type": "execute_result",
          "data": {
            "text/plain": [
              "Index(['Pais_Origen', 'Nombre', 'Anyo', 'Cilindros', 'Millas_Por_Galon',\n",
              "       'Peso_En_Libras', 'Desplazamiento', 'Aceleracion', 'Caballo_De_Fuerza'],\n",
              "      dtype='object')"
            ]
          },
          "metadata": {},
          "execution_count": 13
        }
      ]
    },
    {
      "cell_type": "code",
      "source": [
        "# Var1 = Log10(var1/var2)\n",
        "import numpy as np\n",
        "data['Var1'] = np.log10(data.Peso_En_Libras/data.Aceleracion)\n",
        "data.head()"
      ],
      "metadata": {
        "colab": {
          "base_uri": "https://localhost:8080/",
          "height": 250
        },
        "id": "1_JR0sc6F7_k",
        "outputId": "470b5ed7-9aaa-49c5-ae9d-07da1536faa0"
      },
      "execution_count": null,
      "outputs": [
        {
          "output_type": "execute_result",
          "data": {
            "text/html": [
              "\n",
              "  <div id=\"df-a94d7f31-3a89-4721-8414-392af31bc515\">\n",
              "    <div class=\"colab-df-container\">\n",
              "      <div>\n",
              "<style scoped>\n",
              "    .dataframe tbody tr th:only-of-type {\n",
              "        vertical-align: middle;\n",
              "    }\n",
              "\n",
              "    .dataframe tbody tr th {\n",
              "        vertical-align: top;\n",
              "    }\n",
              "\n",
              "    .dataframe thead th {\n",
              "        text-align: right;\n",
              "    }\n",
              "</style>\n",
              "<table border=\"1\" class=\"dataframe\">\n",
              "  <thead>\n",
              "    <tr style=\"text-align: right;\">\n",
              "      <th></th>\n",
              "      <th>Pais_Origen</th>\n",
              "      <th>Nombre</th>\n",
              "      <th>Anyo</th>\n",
              "      <th>Cilindros</th>\n",
              "      <th>Millas_Por_Galon</th>\n",
              "      <th>Peso_En_Libras</th>\n",
              "      <th>Desplazamiento</th>\n",
              "      <th>Aceleracion</th>\n",
              "      <th>Caballo_De_Fuerza</th>\n",
              "      <th>Var1</th>\n",
              "    </tr>\n",
              "  </thead>\n",
              "  <tbody>\n",
              "    <tr>\n",
              "      <th>0</th>\n",
              "      <td>USA</td>\n",
              "      <td>chevrolet chevelle malibu</td>\n",
              "      <td>1/01/1970</td>\n",
              "      <td>8</td>\n",
              "      <td>18.0</td>\n",
              "      <td>3504.0</td>\n",
              "      <td>307.0</td>\n",
              "      <td>12.0</td>\n",
              "      <td>130.0</td>\n",
              "      <td>2.465383</td>\n",
              "    </tr>\n",
              "    <tr>\n",
              "      <th>1</th>\n",
              "      <td>USA</td>\n",
              "      <td>buick skylark 320</td>\n",
              "      <td>1/01/1970</td>\n",
              "      <td>8</td>\n",
              "      <td>15.0</td>\n",
              "      <td>3693.0</td>\n",
              "      <td>350.0</td>\n",
              "      <td>11.5</td>\n",
              "      <td>165.0</td>\n",
              "      <td>2.506681</td>\n",
              "    </tr>\n",
              "    <tr>\n",
              "      <th>2</th>\n",
              "      <td>USA</td>\n",
              "      <td>plymouth satellite</td>\n",
              "      <td>1/01/1970</td>\n",
              "      <td>8</td>\n",
              "      <td>18.0</td>\n",
              "      <td>3436.0</td>\n",
              "      <td>318.0</td>\n",
              "      <td>11.0</td>\n",
              "      <td>150.0</td>\n",
              "      <td>2.494660</td>\n",
              "    </tr>\n",
              "    <tr>\n",
              "      <th>3</th>\n",
              "      <td>USA</td>\n",
              "      <td>amc rebel sst</td>\n",
              "      <td>1/01/1970</td>\n",
              "      <td>8</td>\n",
              "      <td>16.0</td>\n",
              "      <td>3433.0</td>\n",
              "      <td>304.0</td>\n",
              "      <td>12.0</td>\n",
              "      <td>150.0</td>\n",
              "      <td>2.456493</td>\n",
              "    </tr>\n",
              "    <tr>\n",
              "      <th>4</th>\n",
              "      <td>USA</td>\n",
              "      <td>ford torino</td>\n",
              "      <td>1/01/1970</td>\n",
              "      <td>8</td>\n",
              "      <td>17.0</td>\n",
              "      <td>3449.0</td>\n",
              "      <td>302.0</td>\n",
              "      <td>10.5</td>\n",
              "      <td>140.0</td>\n",
              "      <td>2.516504</td>\n",
              "    </tr>\n",
              "  </tbody>\n",
              "</table>\n",
              "</div>\n",
              "      <button class=\"colab-df-convert\" onclick=\"convertToInteractive('df-a94d7f31-3a89-4721-8414-392af31bc515')\"\n",
              "              title=\"Convert this dataframe to an interactive table.\"\n",
              "              style=\"display:none;\">\n",
              "        \n",
              "  <svg xmlns=\"http://www.w3.org/2000/svg\" height=\"24px\"viewBox=\"0 0 24 24\"\n",
              "       width=\"24px\">\n",
              "    <path d=\"M0 0h24v24H0V0z\" fill=\"none\"/>\n",
              "    <path d=\"M18.56 5.44l.94 2.06.94-2.06 2.06-.94-2.06-.94-.94-2.06-.94 2.06-2.06.94zm-11 1L8.5 8.5l.94-2.06 2.06-.94-2.06-.94L8.5 2.5l-.94 2.06-2.06.94zm10 10l.94 2.06.94-2.06 2.06-.94-2.06-.94-.94-2.06-.94 2.06-2.06.94z\"/><path d=\"M17.41 7.96l-1.37-1.37c-.4-.4-.92-.59-1.43-.59-.52 0-1.04.2-1.43.59L10.3 9.45l-7.72 7.72c-.78.78-.78 2.05 0 2.83L4 21.41c.39.39.9.59 1.41.59.51 0 1.02-.2 1.41-.59l7.78-7.78 2.81-2.81c.8-.78.8-2.07 0-2.86zM5.41 20L4 18.59l7.72-7.72 1.47 1.35L5.41 20z\"/>\n",
              "  </svg>\n",
              "      </button>\n",
              "      \n",
              "  <style>\n",
              "    .colab-df-container {\n",
              "      display:flex;\n",
              "      flex-wrap:wrap;\n",
              "      gap: 12px;\n",
              "    }\n",
              "\n",
              "    .colab-df-convert {\n",
              "      background-color: #E8F0FE;\n",
              "      border: none;\n",
              "      border-radius: 50%;\n",
              "      cursor: pointer;\n",
              "      display: none;\n",
              "      fill: #1967D2;\n",
              "      height: 32px;\n",
              "      padding: 0 0 0 0;\n",
              "      width: 32px;\n",
              "    }\n",
              "\n",
              "    .colab-df-convert:hover {\n",
              "      background-color: #E2EBFA;\n",
              "      box-shadow: 0px 1px 2px rgba(60, 64, 67, 0.3), 0px 1px 3px 1px rgba(60, 64, 67, 0.15);\n",
              "      fill: #174EA6;\n",
              "    }\n",
              "\n",
              "    [theme=dark] .colab-df-convert {\n",
              "      background-color: #3B4455;\n",
              "      fill: #D2E3FC;\n",
              "    }\n",
              "\n",
              "    [theme=dark] .colab-df-convert:hover {\n",
              "      background-color: #434B5C;\n",
              "      box-shadow: 0px 1px 3px 1px rgba(0, 0, 0, 0.15);\n",
              "      filter: drop-shadow(0px 1px 2px rgba(0, 0, 0, 0.3));\n",
              "      fill: #FFFFFF;\n",
              "    }\n",
              "  </style>\n",
              "\n",
              "      <script>\n",
              "        const buttonEl =\n",
              "          document.querySelector('#df-a94d7f31-3a89-4721-8414-392af31bc515 button.colab-df-convert');\n",
              "        buttonEl.style.display =\n",
              "          google.colab.kernel.accessAllowed ? 'block' : 'none';\n",
              "\n",
              "        async function convertToInteractive(key) {\n",
              "          const element = document.querySelector('#df-a94d7f31-3a89-4721-8414-392af31bc515');\n",
              "          const dataTable =\n",
              "            await google.colab.kernel.invokeFunction('convertToInteractive',\n",
              "                                                     [key], {});\n",
              "          if (!dataTable) return;\n",
              "\n",
              "          const docLinkHtml = 'Like what you see? Visit the ' +\n",
              "            '<a target=\"_blank\" href=https://colab.research.google.com/notebooks/data_table.ipynb>data table notebook</a>'\n",
              "            + ' to learn more about interactive tables.';\n",
              "          element.innerHTML = '';\n",
              "          dataTable['output_type'] = 'display_data';\n",
              "          await google.colab.output.renderOutput(dataTable, element);\n",
              "          const docLink = document.createElement('div');\n",
              "          docLink.innerHTML = docLinkHtml;\n",
              "          element.appendChild(docLink);\n",
              "        }\n",
              "      </script>\n",
              "    </div>\n",
              "  </div>\n",
              "  "
            ],
            "text/plain": [
              "  Pais_Origen                     Nombre  ... Caballo_De_Fuerza      Var1\n",
              "0         USA  chevrolet chevelle malibu  ...             130.0  2.465383\n",
              "1         USA          buick skylark 320  ...             165.0  2.506681\n",
              "2         USA         plymouth satellite  ...             150.0  2.494660\n",
              "3         USA              amc rebel sst  ...             150.0  2.456493\n",
              "4         USA                ford torino  ...             140.0  2.516504\n",
              "\n",
              "[5 rows x 10 columns]"
            ]
          },
          "metadata": {},
          "execution_count": 14
        }
      ]
    },
    {
      "cell_type": "code",
      "source": [
        "# Var2 = Sqrt(var1)exp(var2)/200\n",
        "data['Var2'] = np.sqrt(data.Peso_En_Libras)*np.exp(data.Desplazamiento)/200"
      ],
      "metadata": {
        "id": "0drUJjMsU_l5"
      },
      "execution_count": null,
      "outputs": []
    },
    {
      "cell_type": "code",
      "source": [
        "# Var3 = Si var 1 > var 2 → 5, caso contrario 3\n",
        "# data.Desplazamiento > data.Caballo_De_Fuerza\n",
        "columna = {}\n",
        "columna3 =  data.Desplazamiento - data.Caballo_De_Fuerza\n",
        "for i in columna3:\n",
        "  if i < 0:\n",
        "    columna[i] = 3\n",
        "  else:\n",
        "    columna[i]= 5\n",
        "data['Var3'] = pd.DataFrame(columna.values(), columns=['Columna 3'])"
      ],
      "metadata": {
        "id": "a-iriVmTaEtr"
      },
      "execution_count": null,
      "outputs": []
    },
    {
      "cell_type": "code",
      "source": [
        "data['Var3'] = np.where(data.Desplazamiento > data.Caballo_De_Fuerza, 5, 3)\n",
        "data.isna().sum()"
      ],
      "metadata": {
        "id": "nC3klfb8nTsr",
        "colab": {
          "base_uri": "https://localhost:8080/"
        },
        "outputId": "68d84a17-e4f0-4cc2-e878-fcb3f7f6400a"
      },
      "execution_count": null,
      "outputs": [
        {
          "output_type": "execute_result",
          "data": {
            "text/plain": [
              "Pais_Origen          0\n",
              "Nombre               0\n",
              "Anyo                 0\n",
              "Cilindros            0\n",
              "Millas_Por_Galon     0\n",
              "Peso_En_Libras       0\n",
              "Desplazamiento       0\n",
              "Aceleracion          0\n",
              "Caballo_De_Fuerza    0\n",
              "Var1                 0\n",
              "Var2                 0\n",
              "Var3                 0\n",
              "dtype: int64"
            ]
          },
          "metadata": {},
          "execution_count": 17
        }
      ]
    },
    {
      "cell_type": "code",
      "source": [
        "# Var4 = 1/logn(var1/var2)*100\n",
        "data['Var4'] = (1/np.log(data.Millas_Por_Galon / data.Desplazamiento))*100"
      ],
      "metadata": {
        "id": "KF7xi7zDWSZq"
      },
      "execution_count": null,
      "outputs": []
    },
    {
      "cell_type": "code",
      "source": [
        "# Var5 = var2**2/var1\n",
        "data['Var5'] = data.Desplazamiento**2/data.Millas_Por_Galon"
      ],
      "metadata": {
        "id": "Hkcy9LoccPh-"
      },
      "execution_count": null,
      "outputs": []
    },
    {
      "cell_type": "markdown",
      "source": [
        "# **Generar 3 variables cualitativas ordinales con los siguientes criterios:**\n",
        "- Si es mayor a la “media + 1 x desviación estándar” → Alto\n",
        "- Si está entre “media - 1 x desviación estándar” y “media + 1 x desviación estándar” → Medio\n",
        "- Si es menor a la “media - 1 x desviación estándar” → Bajo"
      ],
      "metadata": {
        "id": "567s3q6wdK4O"
      }
    },
    {
      "cell_type": "code",
      "source": [
        "# Var6\n",
        "Lista_condiciones = [\n",
        "    (data.Millas_Por_Galon > data.Millas_Por_Galon.mean()+1*data.Millas_Por_Galon.std()) ,\n",
        "    (data.Millas_Por_Galon >= data.Millas_Por_Galon.mean()-1*data.Millas_Por_Galon.std()) & (data.Millas_Por_Galon <= data.Millas_Por_Galon.mean()+1*data.Millas_Por_Galon.std()),\n",
        "    (data.Millas_Por_Galon < data.Millas_Por_Galon.mean()-1*data.Millas_Por_Galon.std())]\n",
        "choicelist = ['ALto', 'Medio', 'Bajo']\n",
        "data['Var6'] = np.select(Lista_condiciones, choicelist, default='Not Specified')"
      ],
      "metadata": {
        "id": "kLwUlSrwAvAA"
      },
      "execution_count": null,
      "outputs": []
    },
    {
      "cell_type": "code",
      "source": [
        "# Var7\n",
        "Lista_condiciones = [\n",
        "    (data.Peso_En_Libras > data.Peso_En_Libras.mean()+1*data.Peso_En_Libras.std()) ,\n",
        "    (data.Peso_En_Libras >= data.Peso_En_Libras.mean()-1*data.Peso_En_Libras.std()) & (data.Peso_En_Libras <= data.Peso_En_Libras.mean()+1*data.Peso_En_Libras.std()),\n",
        "    (data.Peso_En_Libras < data.Peso_En_Libras.mean()-1*data.Peso_En_Libras.std())]\n",
        "choicelist = ['ALto', 'Medio', 'Bajo']\n",
        "data['Var7'] = np.select(Lista_condiciones, choicelist, default='Not Specified')"
      ],
      "metadata": {
        "id": "ws24_TBK-qM_"
      },
      "execution_count": null,
      "outputs": []
    },
    {
      "cell_type": "code",
      "source": [
        "#Var8\n",
        "Lista_condiciones = [\n",
        "    (data.Desplazamiento > data.Desplazamiento.mean()+1*data.Desplazamiento.std()) ,\n",
        "    (data.Desplazamiento >= data.Desplazamiento.mean()-1*data.Desplazamiento.std()) & (data.Desplazamiento <= data.Desplazamiento.mean()+1*data.Desplazamiento.std()),\n",
        "    (data.Desplazamiento < data.Desplazamiento.mean()-1*data.Desplazamiento.std())]\n",
        "choicelist = ['ALto', 'Medio', 'Bajo']\n",
        "data['var8'] = np.select(Lista_condiciones, choicelist, default='Not Specified')"
      ],
      "metadata": {
        "id": "HlEPNGF0_3XL"
      },
      "execution_count": null,
      "outputs": []
    },
    {
      "cell_type": "code",
      "source": [
        "# contar cuanto se repiten cada uno de los valores\n",
        "data.Var6.value_counts()"
      ],
      "metadata": {
        "colab": {
          "base_uri": "https://localhost:8080/"
        },
        "id": "DS6IJb6_dmbN",
        "outputId": "d344127f-1b5a-4742-9652-dad989854a0a"
      },
      "execution_count": null,
      "outputs": [
        {
          "output_type": "execute_result",
          "data": {
            "text/plain": [
              "Medio    253\n",
              "Bajo      78\n",
              "ALto      75\n",
              "Name: Var6, dtype: int64"
            ]
          },
          "metadata": {},
          "execution_count": 25
        }
      ]
    },
    {
      "cell_type": "code",
      "source": [
        "# contar cuanto se repiten cada uno de los valores\n",
        "data.Var7.value_counts()"
      ],
      "metadata": {
        "colab": {
          "base_uri": "https://localhost:8080/"
        },
        "id": "wekEMye5GsXZ",
        "outputId": "e38c9641-0ab6-4fa6-f16c-f1157bb1df3d"
      },
      "execution_count": null,
      "outputs": [
        {
          "output_type": "execute_result",
          "data": {
            "text/plain": [
              "Medio    248\n",
              "ALto      82\n",
              "Bajo      76\n",
              "Name: Var7, dtype: int64"
            ]
          },
          "metadata": {},
          "execution_count": 26
        }
      ]
    },
    {
      "cell_type": "code",
      "source": [
        "# contar cuanto se repiten cada uno de los valores\n",
        "data.var8.value_counts()"
      ],
      "metadata": {
        "colab": {
          "base_uri": "https://localhost:8080/"
        },
        "id": "V8drnxyNIdmq",
        "outputId": "3f883c89-213d-4c50-b74d-4b4c583cf594"
      },
      "execution_count": null,
      "outputs": [
        {
          "output_type": "execute_result",
          "data": {
            "text/plain": [
              "Medio    267\n",
              "ALto     103\n",
              "Bajo      36\n",
              "Name: var8, dtype: int64"
            ]
          },
          "metadata": {},
          "execution_count": 27
        }
      ]
    },
    {
      "cell_type": "markdown",
      "source": [
        "# **Crear una función que muestre los siguientes gráficos para las variables numéricas según una variable numérica:**\n",
        "- Cajas y bigotes\n",
        "- Barras de la media\n",
        "- Histograma con Curva"
      ],
      "metadata": {
        "id": "wFZFLWRdIkgn"
      }
    },
    {
      "cell_type": "code",
      "source": [
        "data.info()"
      ],
      "metadata": {
        "id": "nDvrFT0jI4AA"
      },
      "execution_count": null,
      "outputs": []
    },
    {
      "cell_type": "code",
      "source": [
        "# Convertimos Cilindros a str\n",
        "data['Cilindros'] = data['Cilindros'].apply(str)  # ya convertido en str"
      ],
      "metadata": {
        "id": "2WGf-2SAlKbO"
      },
      "execution_count": null,
      "outputs": []
    },
    {
      "cell_type": "code",
      "source": [
        "columnas = data_num.select_dtypes(include=['float64', 'int']).columns\n",
        "columnas"
      ],
      "metadata": {
        "colab": {
          "base_uri": "https://localhost:8080/"
        },
        "id": "QD4VyxsuLsl4",
        "outputId": "d0d53be2-4212-43ef-aa28-6b6b207a325b"
      },
      "execution_count": null,
      "outputs": [
        {
          "output_type": "execute_result",
          "data": {
            "text/plain": [
              "Index(['Millas_Por_Galon', 'Peso_En_Libras', 'Desplazamiento', 'Aceleracion',\n",
              "       'Caballo_De_Fuerza'],\n",
              "      dtype='object')"
            ]
          },
          "metadata": {},
          "execution_count": 30
        }
      ]
    },
    {
      "cell_type": "markdown",
      "source": [
        "## Función gráfico"
      ],
      "metadata": {
        "id": "dWemslVCMbIa"
      }
    },
    {
      "cell_type": "code",
      "source": [
        "import matplotlib.pyplot as plt\n",
        "from matplotlib import style\n",
        "import seaborn as sns"
      ],
      "metadata": {
        "id": "FAKO8KPEMUR-"
      },
      "execution_count": null,
      "outputs": []
    },
    {
      "cell_type": "code",
      "source": [
        "def grafico_numericos(columnas, data, x):\n",
        "  \n",
        "  for i, colum in enumerate(columnas): \n",
        "    fig, ax = plt.subplots(figsize=(6, 3.84))\n",
        "    sns.boxplot(   # boxplot  violinplot\n",
        "        x = x,\n",
        "        y = colum,\n",
        "        data  = data,\n",
        "        )\n",
        "    ax.set_title(colum, fontsize = 10, fontweight = \"bold\")\n",
        "    ax.tick_params(labelsize = 8)\n",
        "    ax.set_xlabel(\"\")\n"
      ],
      "metadata": {
        "id": "87NzO4H6Mip0"
      },
      "execution_count": null,
      "outputs": []
    },
    {
      "cell_type": "code",
      "source": [
        "x = data.Cilindros  # variable cualitativa\n",
        "\n",
        "grafico_numericos(columnas, data, x)"
      ],
      "metadata": {
        "colab": {
          "base_uri": "https://localhost:8080/",
          "height": 1000
        },
        "id": "MbRcF4JE35A6",
        "outputId": "37a62ddb-b6a6-454c-fdec-5e800fa2aa04"
      },
      "execution_count": null,
      "outputs": [
        {
          "output_type": "display_data",
          "data": {
            "image/png": "[encoded data removed]",
            "text/plain": [
              "<Figure size 432x276.48 with 1 Axes>"
            ]
          },
          "metadata": {
            "needs_background": "light"
          }
        },
        {
          "output_type": "display_data",
          "data": {
            "image/png": "[encoded data removed]",
            "text/plain": [
              "<Figure size 432x276.48 with 1 Axes>"
            ]
          },
          "metadata": {
            "needs_background": "light"
          }
        },
        {
          "output_type": "display_data",
          "data": {
            "image/png": "[encoded data removed]",
            "text/plain": [
              "<Figure size 432x276.48 with 1 Axes>"
            ]
          },
          "metadata": {
            "needs_background": "light"
          }
        },
        {
          "output_type": "display_data",
          "data": {
            "image/png": "[encoded data removed]",
            "text/plain": [
              "<Figure size 432x276.48 with 1 Axes>"
            ]
          },
          "metadata": {
            "needs_background": "light"
          }
        },
        {
          "output_type": "display_data",
          "data": {
            "image/png": "[encoded data removed]",
            "text/plain": [
              "<Figure size 432x276.48 with 1 Axes>"
            ]
          },
          "metadata": {
            "needs_background": "light"
          }
        }
      ]
    },
    {
      "cell_type": "code",
      "source": [
        "def grafico_Barras(columnas, data, x):\n",
        "  \n",
        "  for i, colum in enumerate(columnas): \n",
        "    fig, ax = plt.subplots(figsize=(6, 3.84))\n",
        "    sns.barplot(   \n",
        "         x = x,\n",
        "         y = colum,\n",
        "         data  = data,\n",
        "         estimator = np.median\n",
        "         )"
      ],
      "metadata": {
        "id": "rA73bYjpmJcc"
      },
      "execution_count": null,
      "outputs": []
    },
    {
      "cell_type": "code",
      "source": [
        "x = data.Cilindros  # variable cualitativa\n",
        "\n",
        "grafico_Barras(columnas, data, x)"
      ],
      "metadata": {
        "colab": {
          "base_uri": "https://localhost:8080/",
          "height": 1000
        },
        "id": "iQRXzRwc4Bnb",
        "outputId": "7ae3ca54-ba48-430d-cd61-4082ae51f9ab"
      },
      "execution_count": null,
      "outputs": [
        {
          "output_type": "display_data",
          "data": {
            "image/png": "[encoded data removed]",
            "text/plain": [
              "<Figure size 432x276.48 with 1 Axes>"
            ]
          },
          "metadata": {
            "needs_background": "light"
          }
        },
        {
          "output_type": "display_data",
          "data": {
            "image/png": "[encoded data removed]",
            "text/plain": [
              "<Figure size 432x276.48 with 1 Axes>"
            ]
          },
          "metadata": {
            "needs_background": "light"
          }
        },
        {
          "output_type": "display_data",
          "data": {
            "image/png": "[encoded data removed]",
            "text/plain": [
              "<Figure size 432x276.48 with 1 Axes>"
            ]
          },
          "metadata": {
            "needs_background": "light"
          }
        },
        {
          "output_type": "display_data",
          "data": {
            "image/png": "[encoded data removed]",
            "text/plain": [
              "<Figure size 432x276.48 with 1 Axes>"
            ]
          },
          "metadata": {
            "needs_background": "light"
          }
        },
        {
          "output_type": "display_data",
          "data": {
            "image/png": "[encoded data removed]",
            "text/plain": [
              "<Figure size 432x276.48 with 1 Axes>"
            ]
          },
          "metadata": {
            "needs_background": "light"
          }
        }
      ]
    },
    {
      "cell_type": "code",
      "source": [
        "def Histogramas(columnas, Base):\n",
        "  for i, colum in enumerate(columnas):\n",
        "    x = Base.loc[:,colum]\n",
        "    fig, ax = plt.subplots(figsize=(6, 3.84))\n",
        "    sns.set_palette (\"hls\")\n",
        "    sns.distplot(x,\n",
        "                 color=\"r\",\n",
        "                 bins=30,\n",
        "                 kde=True)\n",
        "    ax.set_title(colum, fontsize = 10, fontweight = \"bold\")\n",
        "    ax.tick_params(labelsize = 8)\n",
        "    ax.set_xlabel(\"\")\n",
        "    plt.show()\n",
        "  "
      ],
      "metadata": {
        "id": "0q9cnWYiylTC"
      },
      "execution_count": null,
      "outputs": []
    },
    {
      "cell_type": "code",
      "source": [
        "Histogramas(columnas, data_num)"
      ],
      "metadata": {
        "colab": {
          "base_uri": "https://localhost:8080/",
          "height": 1000
        },
        "id": "37lPgiszETn8",
        "outputId": "9656ee1e-981b-493d-ad51-4ce05f9bb81d"
      },
      "execution_count": null,
      "outputs": [
        {
          "output_type": "stream",
          "name": "stderr",
          "text": [
            "/usr/local/lib/python3.7/dist-packages/seaborn/distributions.py:2619: FutureWarning: `distplot` is a deprecated function and will be removed in a future version. Please adapt your code to use either `displot` (a figure-level function with similar flexibility) or `histplot` (an axes-level function for histograms).\n",
            "  warnings.warn(msg, FutureWarning)\n"
          ]
        },
        {
          "output_type": "display_data",
          "data": {
            "image/png": "[encoded data removed]",
            "text/plain": [
              "<Figure size 432x276.48 with 1 Axes>"
            ]
          },
          "metadata": {
            "needs_background": "light"
          }
        },
        {
          "output_type": "stream",
          "name": "stderr",
          "text": [
            "/usr/local/lib/python3.7/dist-packages/seaborn/distributions.py:2619: FutureWarning: `distplot` is a deprecated function and will be removed in a future version. Please adapt your code to use either `displot` (a figure-level function with similar flexibility) or `histplot` (an axes-level function for histograms).\n",
            "  warnings.warn(msg, FutureWarning)\n"
          ]
        },
        {
          "output_type": "display_data",
          "data": {
            "image/png": "[encoded data removed]",
            "text/plain": [
              "<Figure size 432x276.48 with 1 Axes>"
            ]
          },
          "metadata": {
            "needs_background": "light"
          }
        },
        {
          "output_type": "stream",
          "name": "stderr",
          "text": [
            "/usr/local/lib/python3.7/dist-packages/seaborn/distributions.py:2619: FutureWarning: `distplot` is a deprecated function and will be removed in a future version. Please adapt your code to use either `displot` (a figure-level function with similar flexibility) or `histplot` (an axes-level function for histograms).\n",
            "  warnings.warn(msg, FutureWarning)\n"
          ]
        },
        {
          "output_type": "display_data",
          "data": {
            "image/png": "[encoded data removed]",
            "text/plain": [
              "<Figure size 432x276.48 with 1 Axes>"
            ]
          },
          "metadata": {
            "needs_background": "light"
          }
        },
        {
          "output_type": "stream",
          "name": "stderr",
          "text": [
            "/usr/local/lib/python3.7/dist-packages/seaborn/distributions.py:2619: FutureWarning: `distplot` is a deprecated function and will be removed in a future version. Please adapt your code to use either `displot` (a figure-level function with similar flexibility) or `histplot` (an axes-level function for histograms).\n",
            "  warnings.warn(msg, FutureWarning)\n"
          ]
        },
        {
          "output_type": "display_data",
          "data": {
            "image/png": "[encoded data removed]",
            "text/plain": [
              "<Figure size 432x276.48 with 1 Axes>"
            ]
          },
          "metadata": {
            "needs_background": "light"
          }
        },
        {
          "output_type": "stream",
          "name": "stderr",
          "text": [
            "/usr/local/lib/python3.7/dist-packages/seaborn/distributions.py:2619: FutureWarning: `distplot` is a deprecated function and will be removed in a future version. Please adapt your code to use either `displot` (a figure-level function with similar flexibility) or `histplot` (an axes-level function for histograms).\n",
            "  warnings.warn(msg, FutureWarning)\n"
          ]
        },
        {
          "output_type": "display_data",
          "data": {
            "image/png": "[encoded data removed]",
            "text/plain": [
              "<Figure size 432x276.48 with 1 Axes>"
            ]
          },
          "metadata": {
            "needs_background": "light"
          }
        }
      ]
    },
    {
      "cell_type": "markdown",
      "source": [
        "# **Crear una función que devuelva un mapa de calor con la correlación de todas las variables numéricas (incluye las generadas), para cada país**"
      ],
      "metadata": {
        "id": "TTaIoifVIxX3"
      }
    },
    {
      "cell_type": "code",
      "source": [
        "# grilla de correlación\n",
        "plt.figure(figsize=(8,6))\n",
        "correlacion = data.corr()\n",
        "sns.heatmap(correlacion,\n",
        "            xticklabels = correlacion.columns.values,\n",
        "            yticklabels = correlacion.columns.values,\n",
        "            annot = True\n",
        "            );"
      ],
      "metadata": {
        "colab": {
          "base_uri": "https://localhost:8080/",
          "height": 462
        },
        "id": "T7kRFyWlI4uf",
        "outputId": "7ca2d253-98d4-4c20-d1d7-d872c5f52e22"
      },
      "execution_count": null,
      "outputs": [
        {
          "output_type": "display_data",
          "data": {
            "image/png": "[encoded data removed]",
            "text/plain": [
              "<Figure size 576x432 with 2 Axes>"
            ]
          },
          "metadata": {
            "needs_background": "light"
          }
        }
      ]
    }
  ]
}
